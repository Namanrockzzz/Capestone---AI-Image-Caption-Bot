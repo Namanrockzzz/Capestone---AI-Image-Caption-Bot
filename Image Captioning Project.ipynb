{
 "cells": [
  {
   "cell_type": "code",
   "execution_count": 2,
   "id": "precious-demand",
   "metadata": {},
   "outputs": [],
   "source": [
    "%config IPCompleter.use_jedi = False"
   ]
  },
  {
   "cell_type": "markdown",
   "id": "possible-hardware",
   "metadata": {},
   "source": [
    "### Image Captioning\n",
    "- Generating Captions for Images\n",
    "- Reference blog - <a href=\"https://towardsdatascience.com/image-captioning-with-keras-teaching-computers-to-describe-pictures-c88a46a311b8\">Image Captioning with Keras</a>\n",
    "- Dataset Download Link - <a href=\"https://www.kaggle.com/shadabhussain/flickr8k\">Flickr 8k Dataset</a>\n",
    "\n",
    "` 6000 Images - Training, 1000 Images - Validation, 1000 Images - Testing `\n",
    "\n",
    "` 5 Captions per Image `"
   ]
  },
  {
   "cell_type": "markdown",
   "id": "consecutive-thesaurus",
   "metadata": {},
   "source": [
    "### Steps\n",
    "- Data Collection\n",
    "- Understanding the Data\n",
    "- Data Cleaning\n",
    "- Loading the training set\n",
    "- Data Preprocessing - Images\n",
    "- Data Preprocessing - Captions\n",
    "- Data Preparation using Generator Function\n",
    "- Word Embeddings\n",
    "- Model Architecture\n",
    "- Inference\n",
    "- Evaluation"
   ]
  },
  {
   "cell_type": "code",
   "execution_count": 4,
   "id": "geographic-leadership",
   "metadata": {},
   "outputs": [],
   "source": [
    "# Read Text Captions\n",
    "\n",
    "def readTextFile(path):\n",
    "    with open(path) as f:\n",
    "        captions = f.read()\n",
    "    return captions"
   ]
  },
  {
   "cell_type": "code",
   "execution_count": 10,
   "id": "eb601b6d",
   "metadata": {},
   "outputs": [],
   "source": [
    "captions = readTextFile(\"Dataset/Flickr_TextData/Flickr8k.token.txt\")\n",
    "captions = captions.split('\\n')[:-1]"
   ]
  },
  {
   "cell_type": "code",
   "execution_count": 14,
   "id": "23f7058e",
   "metadata": {},
   "outputs": [
    {
     "data": {
      "text/plain": [
       "['1000268201_693b08cb0e.jpg#0',\n",
       " 'A child in a pink dress is climbing up a set of stairs in an entry way .']"
      ]
     },
     "execution_count": 14,
     "metadata": {},
     "output_type": "execute_result"
    }
   ],
   "source": [
    "captions[0].split('\\t')\n",
    "# format = img_id#index caption"
   ]
  },
  {
   "cell_type": "code",
   "execution_count": 13,
   "id": "87031d37",
   "metadata": {},
   "outputs": [
    {
     "name": "stdout",
     "output_type": "stream",
     "text": [
      "40460\n"
     ]
    }
   ],
   "source": [
    "print(len(captions))"
   ]
  },
  {
   "cell_type": "code",
   "execution_count": 15,
   "id": "fddad690",
   "metadata": {},
   "outputs": [],
   "source": [
    "# Dictionary to Map each Image with the list of captions it has\n",
    "# d[img_id] = list of different captions\n",
    "descriptions = {}\n",
    "\n",
    "for x in captions:\n",
    "    first, second = x.split('\\t')\n",
    "    img_id = first.split('.')[0]\n",
    "    \n",
    "    # check if image_id already present in dictionary or not\n",
    "    if descriptions.get(img_id) is None:\n",
    "        descriptions[img_id] = []\n",
    "    descriptions[img_id].append(second)"
   ]
  },
  {
   "cell_type": "code",
   "execution_count": 18,
   "id": "ba39b2e9",
   "metadata": {},
   "outputs": [
    {
     "data": {
      "text/plain": [
       "['A child in a pink dress is climbing up a set of stairs in an entry way .',\n",
       " 'A girl going into a wooden building .',\n",
       " 'A little girl climbing into a wooden playhouse .',\n",
       " 'A little girl climbing the stairs to her playhouse .',\n",
       " 'A little girl in a pink dress going into a wooden cabin .']"
      ]
     },
     "execution_count": 18,
     "metadata": {},
     "output_type": "execute_result"
    }
   ],
   "source": [
    "descriptions['1000268201_693b08cb0e']"
   ]
  },
  {
   "cell_type": "code",
   "execution_count": null,
   "id": "35fd4027",
   "metadata": {},
   "outputs": [],
   "source": []
  }
 ],
 "metadata": {
  "kernelspec": {
   "display_name": "Python 3.7 (tensorflowgpu)",
   "language": "python",
   "name": "tensorflow"
  },
  "language_info": {
   "codemirror_mode": {
    "name": "ipython",
    "version": 3
   },
   "file_extension": ".py",
   "mimetype": "text/x-python",
   "name": "python",
   "nbconvert_exporter": "python",
   "pygments_lexer": "ipython3",
   "version": "3.7.10"
  }
 },
 "nbformat": 4,
 "nbformat_minor": 5
}
